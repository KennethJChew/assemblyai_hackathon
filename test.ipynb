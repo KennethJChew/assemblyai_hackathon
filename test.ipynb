{
 "cells": [
  {
   "cell_type": "code",
   "execution_count": 17,
   "metadata": {},
   "outputs": [],
   "source": [
    "from PIL import Image,ImageDraw\n",
    "import textwrap\n",
    "import os\n",
    "# import matplotlib.pyplot as plt"
   ]
  },
  {
   "cell_type": "code",
   "execution_count": 16,
   "metadata": {},
   "outputs": [
    {
     "name": "stdout",
     "output_type": "stream",
     "text": [
      "transcribe_multimodal_transcription_text_speech,chinese_inkbrush,stylised,concept\n"
     ]
    }
   ],
   "source": [
    "\n",
    "keywords = \"transcribe multimodal transcription text speech\"\n",
    "replaced_keywords = keywords.replace(\" \",\"_\")\n",
    "styles = \",chinese_inkbrush,stylised,concept\"\n",
    "output_folder = replaced_keywords+styles\n",
    "\n",
    "print(output_folder)"
   ]
  },
  {
   "cell_type": "code",
   "execution_count": 27,
   "metadata": {},
   "outputs": [
    {
     "name": "stdout",
     "output_type": "stream",
     "text": [
      "['./stable_diffusion/outputs/txt2img-samples/transcribe_multimodal_transcription_text_speech,chinese_inkbrush,stylised,concept/seed_42_00000.png']\n"
     ]
    }
   ],
   "source": [
    "infographics = []\n",
    "for root,dirs,files in os.walk(f\"stable_diffusion/outputs/txt2img-samples/{output_folder}\"):\n",
    "    # print(root)\n",
    "    # print(files)\n",
    "    for file in files:\n",
    "        filename = \"./\"+root+\"/\"+file\n",
    "        infographics.append(filename)\n",
    "print(infographics)"
   ]
  },
  {
   "cell_type": "code",
   "execution_count": 38,
   "metadata": {},
   "outputs": [],
   "source": [
    "test_txt = \"\"\"lorem ipsum dores lorem ipsum dsadsadsadas dhasjhdjkaslfhd afhjkasgd fgdsahjfg sdahjkf gsadhjfgsdahj fgsahdjf gsadhjfg sadhkjfgsdahjkf gsadhkjfgdshkjd\"\"\"\n",
    "text_list = textwrap.wrap(test_txt,width=40)\n",
    "\n",
    "img = Image.new('RGB', (1024, 1024))\n",
    "d = ImageDraw.Draw(img)\n",
    "info = Image.open(infographics[0])\n",
    "W,H = img.size\n",
    "text = \"\"\n",
    "for each in text_list:\n",
    "    text += each+\"\\n\"\n",
    "d.multiline_text((20,20),text=text,anchor=\"la\", fill=(255, 0, 0))\n",
    "img.paste(info,(500,20))\n",
    "# d.multiline_text((20,512),text=test_txt,anchor=\"lm\", fill=(255, 0, 0))\n",
    "# d.multiline_textbbox((20, 20), test_txt)"
   ]
  },
  {
   "cell_type": "code",
   "execution_count": 39,
   "metadata": {},
   "outputs": [
    {
     "name": "stdout",
     "output_type": "stream",
     "text": [
      "c:\\Users\\kenne\\assemblyai_hackathon\n"
     ]
    }
   ],
   "source": [
    "img.save(\"test.png\")\n",
    "print(os.getcwd())"
   ]
  }
 ],
 "metadata": {
  "kernelspec": {
   "display_name": "transcription",
   "language": "python",
   "name": "python3"
  },
  "language_info": {
   "codemirror_mode": {
    "name": "ipython",
    "version": 3
   },
   "file_extension": ".py",
   "mimetype": "text/x-python",
   "name": "python",
   "nbconvert_exporter": "python",
   "pygments_lexer": "ipython3",
   "version": "3.9.0"
  },
  "orig_nbformat": 4,
  "vscode": {
   "interpreter": {
    "hash": "5865405db41f170c53b460ffe499cdd9c7b8bbe77957721cf8102a02442cd3a5"
   }
  }
 },
 "nbformat": 4,
 "nbformat_minor": 2
}
